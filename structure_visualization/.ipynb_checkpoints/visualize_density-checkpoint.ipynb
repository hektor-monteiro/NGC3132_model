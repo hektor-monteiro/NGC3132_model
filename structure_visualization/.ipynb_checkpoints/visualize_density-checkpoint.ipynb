{
 "cells": [
  {
   "cell_type": "code",
   "execution_count": 1,
   "id": "164b5add-4f39-4871-90a6-ce25f3dac68c",
   "metadata": {},
   "outputs": [
    {
     "name": "stdout",
     "output_type": "stream",
     "text": [
      "(132651, 4)\n"
     ]
    }
   ],
   "source": [
    "import numpy as np\n",
    "import plotly.graph_objects as go\n",
    "import ipywidgets as widgets\n",
    "from IPython.display import display\n",
    "\n",
    "# Read file with density structure\n",
    "data = np.loadtxt('ngc3132_density_structure_51.dat')\n",
    "n = 51\n",
    "\n",
    "# data = np.loadtxt('ngc3132_density_structure_101.dat')\n",
    "# n = 101\n",
    "\n",
    "print(data.shape)\n",
    "\n",
    "x, y, z, density = np.reshape(data[:,0]/1e17,(n,n,n)), np.reshape(data[:,1]/1e17,(n,n,n)), np.reshape(data[:,2]/1e17,(n,n,n)), np.reshape(data[:,3],(n,n,n))\n"
   ]
  },
  {
   "cell_type": "code",
   "execution_count": 5,
   "id": "350a350e-e012-43b6-b39f-0b93a502bb33",
   "metadata": {},
   "outputs": [
    {
     "data": {
      "application/vnd.jupyter.widget-view+json": {
       "model_id": "3e0304aee3bc4b138a2fa66578dfc303",
       "version_major": 2,
       "version_minor": 0
      },
      "text/plain": [
       "HBox(children=(VBox(children=(Checkbox(value=True, description='Show Isosurface'), FloatSlider(value=500.0, de…"
      ]
     },
     "metadata": {},
     "output_type": "display_data"
    }
   ],
   "source": [
    "# Create interactive plot\n",
    "def plot_isosurface(show_isosurface, level, opacity, slice_x, slice_y, slice_z, slice_x_pos, slice_y_pos, slice_z_pos):\n",
    "    fig = go.Figure()\n",
    "    \n",
    "    # Add isosurface if enabled\n",
    "    if show_isosurface:\n",
    "        fig.add_trace(go.Isosurface(\n",
    "            x=x.flatten(),\n",
    "            y=y.flatten(),\n",
    "            z=z.flatten(),\n",
    "            value=density.flatten(),\n",
    "            cmin=np.min(density),  # Ensure full range of colors is preserved\n",
    "            cmax=np.max(density),\n",
    "            isomin=level-3*np.std(density),\n",
    "            isomax=level+3*np.std(density),\n",
    "            opacity=opacity,\n",
    "            surface_count=1,\n",
    "            colorscale='viridis',\n",
    "            caps=dict(x_show=False, y_show=False, z_show=False),\n",
    "        ))\n",
    "\n",
    "\n",
    "    # Add slices\n",
    "    if slice_x:\n",
    "        fig.add_trace(go.Surface(z=z[:, :, slice_x_pos], x=x[:, :, slice_x_pos], y=y[:, :, slice_x_pos], \n",
    "                                 surfacecolor=density[:, :, slice_x_pos], colorscale='viridis', opacity=0.7, showscale=False))\n",
    "    if slice_y:\n",
    "        fig.add_trace(go.Surface(z=z[:, slice_y_pos, :], x=x[:, slice_y_pos, :], y=y[:, slice_y_pos, :], \n",
    "                                 surfacecolor=density[:, slice_y_pos, :], colorscale='viridis', opacity=0.7, showscale=False))\n",
    "    if slice_z:\n",
    "        fig.add_trace(go.Surface(z=z[slice_z_pos, :, :], x=x[slice_z_pos, :, :], y=y[slice_z_pos, :, :], \n",
    "                                 surfacecolor=density[slice_z_pos, :, :], colorscale='viridis', opacity=0.7, showscale=False))\n",
    "    \n",
    "    fig.update_layout(scene=dict(xaxis_title='X', yaxis_title='Y', zaxis_title='Z'),\n",
    "                      title=f\"Isodensity Contour at Level {level}\",\n",
    "                      width=800, height=800)\n",
    "    fig.show()\n",
    "\n",
    "    # # uncomment to save html of visualization\n",
    "    # fig.write_html(\"isodensity_visualization.html\")\n",
    "\n",
    "# Create interactive widgets\n",
    "show_isosurface_checkbox = widgets.Checkbox(value=True, description=\"Show Isosurface\")\n",
    "level_slider = widgets.FloatSlider(min=np.min(density), max=np.max(density), step=0.01, value=500, description='Density')\n",
    "opacity_slider = widgets.FloatSlider(min=0.1, max=1.0, step=0.05, value=0.4, description='Opacity')\n",
    "slice_x_checkbox = widgets.Checkbox(value=False, description=\"Show X Slice\")\n",
    "slice_y_checkbox = widgets.Checkbox(value=False, description=\"Show Y Slice\")\n",
    "slice_z_checkbox = widgets.Checkbox(value=False, description=\"Show Z Slice\")\n",
    "slice_z_checkbox = widgets.Checkbox(value=False, description=\"Show Z Slice\")\n",
    "slice_x_slider = widgets.IntSlider(min=0, max=n-1, step=1, value=n//2, description='X Slice Pos')\n",
    "slice_y_slider = widgets.IntSlider(min=0, max=n-1, step=1, value=n//2, description='Y Slice Pos')\n",
    "slice_z_slider = widgets.IntSlider(min=0, max=n-1, step=1, value=n//2, description='Z Slice Pos')\n",
    "\n",
    "# ui = widgets.VBox([show_isosurface_checkbox, level_slider, opacity_slider, slice_x_checkbox, slice_x_slider, slice_y_checkbox, slice_y_slider, slice_z_checkbox, slice_z_slider])\n",
    "# interactive_plot = widgets.interactive_output(plot_isosurface, {\n",
    "#     'show_isosurface': show_isosurface_checkbox,\n",
    "#     'level': level_slider, 'opacity': opacity_slider, \n",
    "#     'slice_x': slice_x_checkbox, 'slice_y': slice_y_checkbox, 'slice_z': slice_z_checkbox,\n",
    "#     'slice_x_pos': slice_x_slider, 'slice_y_pos': slice_y_slider, 'slice_z_pos': slice_z_slider\n",
    "# })\n",
    "\n",
    "ui = widgets.HBox([\n",
    "    widgets.VBox([show_isosurface_checkbox, level_slider, opacity_slider, slice_x_checkbox, slice_x_slider, slice_y_checkbox, slice_y_slider, slice_z_checkbox, slice_z_slider]),\n",
    "    widgets.VBox([widgets.interactive_output(plot_isosurface, {\n",
    "    'show_isosurface': show_isosurface_checkbox,\n",
    "    'level': level_slider, 'opacity': opacity_slider, \n",
    "    'slice_x': slice_x_checkbox, 'slice_y': slice_y_checkbox, 'slice_z': slice_z_checkbox,\n",
    "    'slice_x_pos': slice_x_slider, 'slice_y_pos': slice_y_slider, 'slice_z_pos': slice_z_slider\n",
    "    })])\n",
    "])\n",
    "\n",
    "display(ui)"
   ]
  },
  {
   "cell_type": "code",
   "execution_count": null,
   "id": "fa6ca098-9c3d-4e58-a906-2cf9b77b1a68",
   "metadata": {},
   "outputs": [],
   "source": []
  }
 ],
 "metadata": {
  "kernelspec": {
   "display_name": "Python 3 (ipykernel)",
   "language": "python",
   "name": "python3"
  },
  "language_info": {
   "codemirror_mode": {
    "name": "ipython",
    "version": 3
   },
   "file_extension": ".py",
   "mimetype": "text/x-python",
   "name": "python",
   "nbconvert_exporter": "python",
   "pygments_lexer": "ipython3",
   "version": "3.10.13"
  }
 },
 "nbformat": 4,
 "nbformat_minor": 5
}
