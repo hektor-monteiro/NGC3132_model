{
 "cells": [
  {
   "cell_type": "code",
   "execution_count": null,
   "id": "20c4309e-36f8-42b7-be7b-fd35af27431a",
   "metadata": {},
   "outputs": [],
   "source": [
    "import numpy as np\n",
    "import pyvista as pv\n",
    "from pyvista import examples\n",
    "\n",
    "# Generate example 3D density data (replace with your actual data)\n",
    "density_data = examples.load_uniform()\n",
    "\n",
    "# Create a PyVista grid from the 3D array\n",
    "grid = pv.UniformGrid()\n",
    "grid.dimensions = np.array(density_data.dimensions) + 1\n",
    "grid.origin = density_data.origin  # Origin of the grid\n",
    "grid.spacing = density_data.spacing  # Spacing of the grid\n",
    "\n",
    "grid.point_data['density'] = density_data.point_data['Spatial Point Data']\n",
    "\n",
    "# Initialize plotter\n",
    "plotter = pv.Plotter()\n",
    "contour = plotter.add_mesh(grid.contour(isosurfaces=[0.5], scalars='density'), opacity=0.5)\n",
    "\n",
    "# Add slider to control the isocontour level\n",
    "def update_contour(value):\n",
    "    plotter.clear()\n",
    "    new_contour = grid.contour(isosurfaces=[value], scalars='density')\n",
    "    plotter.add_mesh(new_contour, opacity=opacity_slider.GetValue())\n",
    "\n",
    "slider_density = plotter.add_slider_widget(update_contour, value=0.5, rng=[grid.get_data_range('density')[0], grid.get_data_range('density')[1]], title='Density')\n",
    "\n",
    "# Add slider to control opacity\n",
    "def update_opacity(value):\n",
    "    for actor in plotter.renderer.actors.values():\n",
    "        actor.prop.opacity = value\n",
    "\n",
    "opacity_slider = plotter.add_slider_widget(update_opacity, value=0.5, rng=[0, 1], title='Opacity')\n",
    "\n",
    "plotter.show()\n"
   ]
  }
 ],
 "metadata": {
  "kernelspec": {
   "display_name": "Python 3 (ipykernel)",
   "language": "python",
   "name": "python3"
  },
  "language_info": {
   "codemirror_mode": {
    "name": "ipython",
    "version": 3
   },
   "file_extension": ".py",
   "mimetype": "text/x-python",
   "name": "python",
   "nbconvert_exporter": "python",
   "pygments_lexer": "ipython3",
   "version": "3.10.13"
  }
 },
 "nbformat": 4,
 "nbformat_minor": 5
}
